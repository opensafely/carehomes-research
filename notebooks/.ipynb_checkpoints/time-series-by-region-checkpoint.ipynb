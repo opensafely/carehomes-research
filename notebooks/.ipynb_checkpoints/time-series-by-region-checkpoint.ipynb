{
 "cells": [
  {
   "cell_type": "markdown",
   "metadata": {
    "lines_to_next_cell": 2
   },
   "source": [
    "# Creating a time-series dataset of covid-related event counts per day\n",
    "\n",
    "\n",
    "### Events\n",
    "Current events extracted:\n",
    "\n",
    "* suspected COVID as recorded in primary care (including GP consultations, 111 calls)\n",
    "* swab tests and test results for SARS-CoV2 from pillar 1 tests (SGSS)\n",
    "* admission to ICU\n",
    "* In-hospital covid-related deaths (from CPNS)\n",
    "* Registered deaths by ICD-10 classification -- covid as underlying cause, covid as contributory cause and non-covid cause of death (from ONS)\n",
    "\n",
    "\n",
    "### import libraries and data\n",
    "The dataset used for this report is `/output/input.csv`, created using the study definition `\\analysis\\study_definintion.py`. The `input.csv` file is imported as a dataframe called `df` and is not exposed. Instead, a dataset containing the frequency of these events per day within each STP is created. "
   ]
  },
  {
   "cell_type": "code",
   "execution_count": null,
   "metadata": {
    "lines_to_end_of_cell_marker": 2
   },
   "outputs": [],
   "source": [
    "import pandas as pd\n",
    "import numpy as np\n",
    "import matplotlib.pyplot as plt\n",
    "import matplotlib.gridspec as gridspec\n",
    "\n",
    "date_cols = [\n",
    "        \"primary_care_case\",\n",
    "        \"primary_care_suspect_case\",\n",
    "        \"first_pos_test_sgss\",\n",
    "        \"a_e_consult_date\",\n",
    "        \"ons_covid_death_date\",\n",
    "]\n",
    "\n",
    "# import data\n",
    "df = pd.read_csv(\n",
    "    #'../output/simulated_input.csv', #dummy data\n",
    "    '../output/input.csv', #real data\n",
    "    \n",
    "    parse_dates=date_cols,\n",
    ")"
   ]
  },
  {
   "cell_type": "code",
   "execution_count": null,
   "metadata": {
    "lines_to_next_cell": 2
   },
   "outputs": [],
   "source": [
    "## View dataframe \n",
    "#print(df)\n",
    "\n",
    "## check types\n",
    "print(df.dtypes)\n",
    "\n",
    "## check earliest and latest dates\n",
    "print(df[date_cols].agg(['min', 'max']).transpose())"
   ]
  },
  {
   "cell_type": "code",
   "execution_count": null,
   "metadata": {
    "lines_to_end_of_cell_marker": 2
   },
   "outputs": [],
   "source": [
    "## Some data tidying\n",
    "\n",
    "# replace NaN with \"\"\n",
    "df[['msoa','stp','region','care_home_type']] = df[['msoa','stp','region','care_home_type']].fillna('')\n",
    "\n",
    "# derive some values:\n",
    "# select start and end dates / first at-risk date\n",
    "start_date = pd.to_datetime(\"2020-02-01\", format='%Y-%m-%d')\n",
    "df_start_date = df[date_cols].min().min()\n",
    "df_end_date = df[date_cols].max().max()\n",
    "\n",
    "\n",
    "# derive some variables:\n",
    "# start date and cause-specific death deaths\n",
    "df = df.assign(\n",
    "    start_date = start_date,\n",
    ")\n"
   ]
  },
  {
   "cell_type": "code",
   "execution_count": null,
   "metadata": {},
   "outputs": [],
   "source": [
    "# choose only date variables\n",
    "event_dates = df.filter(items=date_cols)\n",
    "\n",
    "# Make a dataframe with consecutive dates\n",
    "consec_dates = pd.DataFrame(\n",
    "    index=pd.date_range(start=start_date, end=df_end_date, freq=\"D\")\n",
    ")"
   ]
  },
  {
   "cell_type": "markdown",
   "metadata": {},
   "source": [
    "The following function is used to calculate the daily number of events. First events only, no subsequent events (for instance if a patient is admitted to ICU twice only the first admission is observed). "
   ]
  },
  {
   "cell_type": "code",
   "execution_count": null,
   "metadata": {},
   "outputs": [],
   "source": [
    "# this counts the number of people on each date who have experienced a covid-related event\n",
    "\n",
    "def firsteventcountdata(all_dates, event_dates):\n",
    "\n",
    "    # initialise dataset\n",
    "    in_counts = all_dates\n",
    "    \n",
    "    for col in event_dates:\n",
    "\n",
    "        # Creates a series of the entry date of the index event\n",
    "        in_date = event_dates.loc[:, col]\n",
    "\n",
    "        in_counts = in_counts.join(\n",
    "            pd.DataFrame(in_date, columns=[col]).groupby(col)[col].count().to_frame()\n",
    "        )\n",
    "\n",
    "    # convert nan to zero\n",
    "    in_counts = in_counts.fillna(0)\n",
    "    \n",
    "    return(in_counts)"
   ]
  },
  {
   "cell_type": "code",
   "execution_count": null,
   "metadata": {},
   "outputs": [],
   "source": [
    "var = 'stp'\n",
    "strata = sorted(df[var].unique())\n",
    "df[var].value_counts()"
   ]
  },
  {
   "cell_type": "code",
   "execution_count": null,
   "metadata": {},
   "outputs": [],
   "source": [
    "# calculate event counts per day for each level of var, and put in one dataset\n",
    "counts_per_day_list = list()\n",
    "\n",
    "for strat in strata:\n",
    "    events_strat = (event_dates[df[var] == strat])\n",
    "    counts_strat = firsteventcountdata(consec_dates, events_strat)\n",
    "    counts_strat[var] = strat\n",
    "    counts_per_day_list.append(counts_strat)\n",
    "\n",
    "counts_per_day = pd.concat(counts_per_day_list)\n",
    "\n"
   ]
  },
  {
   "cell_type": "markdown",
   "metadata": {},
   "source": [
    "Redact numbers between 1 and 5 inclusive"
   ]
  },
  {
   "cell_type": "code",
   "execution_count": null,
   "metadata": {},
   "outputs": [],
   "source": [
    "counts_per_day_redacted = counts_per_day.copy()\n",
    "counts_per_day_redacted[date_cols] = (counts_per_day_redacted[date_cols]).apply(lambda x: np.where((x<6) & (x>0), np.nan, x))\n",
    "print(counts_per_day_redacted)"
   ]
  },
  {
   "cell_type": "code",
   "execution_count": null,
   "metadata": {},
   "outputs": [],
   "source": [
    "# save to file\n",
    "counts_per_day_redacted.to_csv(path_or_buf = \"../data/event_counts_by_\"+var+\".csv\")\n",
    "\n",
    "df[var].value_counts().to_csv(path_or_buf = \"../data/total_patient_counts_by_ \"+var+\".csv\")"
   ]
  },
  {
   "cell_type": "code",
   "execution_count": null,
   "metadata": {},
   "outputs": [],
   "source": []
  },
  {
   "cell_type": "code",
   "execution_count": null,
   "metadata": {},
   "outputs": [],
   "source": []
  },
  {
   "cell_type": "code",
   "execution_count": null,
   "metadata": {},
   "outputs": [],
   "source": []
  }
 ],
 "metadata": {
  "jupytext": {
   "cell_metadata_filter": "all",
   "notebook_metadata_filter": "all,-language_info",
   "text_representation": {
    "extension": ".py",
    "format_name": "light",
    "format_version": "1.5",
    "jupytext_version": "1.3.3"
   }
  },
  "kernelspec": {
   "display_name": "Python 3",
   "language": "python",
   "name": "python3"
  },
  "language_info": {
   "codemirror_mode": {
    "name": "ipython",
    "version": 3
   },
   "file_extension": ".py",
   "mimetype": "text/x-python",
   "name": "python",
   "nbconvert_exporter": "python",
   "pygments_lexer": "ipython3",
   "version": "3.8.1"
  }
 },
 "nbformat": 4,
 "nbformat_minor": 4
}
