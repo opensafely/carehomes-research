{
 "cells": [
  {
   "cell_type": "markdown",
   "metadata": {
    "lines_to_next_cell": 2
   },
   "source": [
    "# Creating a time-series dataset of covid-related event counts per day\n",
    "\n",
    "\n",
    "### Events\n",
    "Current events extracted:\n",
    "\n",
    "* suspected COVID as recorded in primary care (including GP consultations, 111 calls)\n",
    "* swab tests and test results for SARS-CoV2 from pillar 1 tests (SGSS)\n",
    "* admission to ICU\n",
    "* In-hospital covid-related deaths (from CPNS)\n",
    "* Registered deaths by ICD-10 classification -- covid as underlying cause, covid as contributory cause and non-covid cause of death (from ONS)\n",
    "\n",
    "\n",
    "### import libraries and data\n",
    "The dataset used for this report is `/output/input.csv`, created using the study definition `\\analysis\\study_definintion.py`. The `input.csv` file is imported as a dataframe called `df` and is not exposed. Instead, a dataset containing the frequency of these events per day within each MSOA is created. "
   ]
  },
  {
   "cell_type": "code",
   "execution_count": 1,
   "metadata": {
    "lines_to_end_of_cell_marker": 2
   },
   "outputs": [],
   "source": [
    "import pandas as pd\n",
    "import numpy as np\n",
    "import matplotlib.pyplot as plt\n",
    "import matplotlib.gridspec as gridspec\n",
    "\n",
    "date_cols = [\n",
    "        \"primary_care_case\",\n",
    "        \"primary_care_suspect_case\",\n",
    "        \"first_pos_test_sgss\",\n",
    "        \"a_e_consult_date\",\n",
    "        \"ons_covid_death_date\",\n",
    "]\n",
    "\n",
    "# import data\n",
    "df = pd.read_csv(\n",
    "    #'../output/simulated_input.csv', #dummy data\n",
    "    '../output/input.csv', #real data\n",
    "    \n",
    "    parse_dates=date_cols,\n",
    ")"
   ]
  },
  {
   "cell_type": "code",
   "execution_count": 2,
   "metadata": {
    "lines_to_next_cell": 2
   },
   "outputs": [
    {
     "name": "stdout",
     "output_type": "stream",
     "text": [
      "patient_id                            int64\n",
      "primary_care_case            datetime64[ns]\n",
      "primary_care_suspect_case    datetime64[ns]\n",
      "first_pos_test_sgss          datetime64[ns]\n",
      "a_e_consult_date             datetime64[ns]\n",
      "ons_covid_death_date         datetime64[ns]\n",
      "care_home_type                       object\n",
      "household_id                        float64\n",
      "household_size                      float64\n",
      "age                                   int64\n",
      "sex                                  object\n",
      "region                               object\n",
      "stp                                  object\n",
      "msoa                                 object\n",
      "rural_urban                          object\n",
      "imd                                   int64\n",
      "ethnicity                           float64\n",
      "dementia                            float64\n",
      "dtype: object\n",
      "                                 min        max\n",
      "primary_care_case         2020-02-06 2020-06-30\n",
      "primary_care_suspect_case 2020-02-01 2020-06-30\n",
      "first_pos_test_sgss       2020-03-04 2020-07-15\n",
      "a_e_consult_date          2020-02-19 2020-06-30\n",
      "ons_covid_death_date      2020-02-18 2020-06-01\n"
     ]
    }
   ],
   "source": [
    "## View dataframe \n",
    "#print(df)\n",
    "\n",
    "## check types\n",
    "print(df.dtypes)\n",
    "\n",
    "## check earliest and latest dates\n",
    "print(df[date_cols].agg(['min', 'max']).transpose())"
   ]
  },
  {
   "cell_type": "code",
   "execution_count": 3,
   "metadata": {
    "lines_to_end_of_cell_marker": 2
   },
   "outputs": [],
   "source": [
    "## Some data tidying\n",
    "\n",
    "# replace NaN with \"\"\n",
    "df[['region','care_home_type']] = df[['region','care_home_type']].fillna('')\n",
    "\n",
    "# derive some values:\n",
    "# select start and end dates / first at-risk date\n",
    "start_date = pd.to_datetime(\"2020-02-01\", format='%Y-%m-%d')\n",
    "df_start_date = df[date_cols].min().min()\n",
    "df_end_date = df[date_cols].max().max()\n",
    "\n",
    "\n",
    "# derive some variables:\n",
    "# start date and cause-specific death deaths\n",
    "df = df.assign(\n",
    "    start_date = start_date,\n",
    ")\n",
    "\n",
    "## indices\n",
    "covariates = [\"region\",\"care_home_type\"]"
   ]
  },
  {
   "cell_type": "code",
   "execution_count": 4,
   "metadata": {},
   "outputs": [],
   "source": [
    "# choose only date variables\n",
    "event_dates = df.filter(items=date_cols)\n",
    "\n",
    "# Make a dataframe with consecutive dates\n",
    "consec_dates = pd.DataFrame(\n",
    "    index=pd.date_range(start=event_dates.min().min(), end=pd.to_datetime(\"2020-07-01\", format='%Y-%m-%d'), freq=\"D\")\n",
    ")"
   ]
  },
  {
   "cell_type": "markdown",
   "metadata": {},
   "source": [
    "The following function is used to calculate the daily number of events. First events only, no subsequent events (for instance if a patient is admitted to ICU twice only the first admission is observed). "
   ]
  },
  {
   "cell_type": "code",
   "execution_count": 5,
   "metadata": {},
   "outputs": [],
   "source": [
    "# this counts the number of people on each date who have experienced a covid-related event\n",
    "\n",
    "def firsteventcountdata(all_dates, datedata):\n",
    "\n",
    "    # initialise datasets\n",
    "    in_counts = all_dates\n",
    "    out_counts = all_dates\n",
    "\n",
    "    for idx, col in enumerate(datedata):\n",
    "\n",
    "        # Creates a series of the entry date of the index event\n",
    "        in_date = datedata.iloc[:, idx]\n",
    "\n",
    "        in_counts = in_counts.join(\n",
    "            pd.DataFrame(in_date, columns=[col]).groupby(col)[col].count().to_frame()\n",
    "        )\n",
    "\n",
    "    # convert nan to zero\n",
    "    in_counts = in_counts.fillna(0)\n",
    "    # remove \"_date\" from column name for better legend\n",
    "    in_counts.columns = in_counts.columns.str.replace(\"_date\", \"\", regex=False)\n",
    "\n",
    "    return(in_counts)"
   ]
  },
  {
   "cell_type": "code",
   "execution_count": 6,
   "metadata": {},
   "outputs": [
    {
     "data": {
      "text/plain": [
       "['MSOA1', 'MSOA2']"
      ]
     },
     "execution_count": 6,
     "metadata": {},
     "output_type": "execute_result"
    }
   ],
   "source": [
    "var = 'msoa'\n",
    "strata = sorted(df[var].unique())\n",
    "strata"
   ]
  },
  {
   "cell_type": "code",
   "execution_count": 7,
   "metadata": {},
   "outputs": [
    {
     "name": "stdout",
     "output_type": "stream",
     "text": [
      "            primary_care_case  primary_care_suspect_case  first_pos_test_sgss  \\\n",
      "2020-02-01                0.0                        1.0                  0.0   \n",
      "2020-02-02                0.0                        0.0                  0.0   \n",
      "2020-02-03                0.0                        0.0                  0.0   \n",
      "2020-02-04                0.0                        0.0                  0.0   \n",
      "2020-02-05                0.0                        0.0                  0.0   \n",
      "...                       ...                        ...                  ...   \n",
      "2020-06-27              519.0                      533.0                192.0   \n",
      "2020-06-28              586.0                      551.0                175.0   \n",
      "2020-06-29              588.0                      589.0                218.0   \n",
      "2020-06-30              627.0                      632.0                224.0   \n",
      "2020-07-01                0.0                        0.0                273.0   \n",
      "\n",
      "            a_e_consult  ons_covid_death   msoa  \n",
      "2020-02-01          0.0              0.0  MSOA1  \n",
      "2020-02-02          0.0              0.0  MSOA1  \n",
      "2020-02-03          0.0              0.0  MSOA1  \n",
      "2020-02-04          0.0              0.0  MSOA1  \n",
      "2020-02-05          0.0              0.0  MSOA1  \n",
      "...                 ...              ...    ...  \n",
      "2020-06-27        493.0              0.0  MSOA2  \n",
      "2020-06-28        518.0              0.0  MSOA2  \n",
      "2020-06-29        598.0              0.0  MSOA2  \n",
      "2020-06-30        635.0              0.0  MSOA2  \n",
      "2020-07-01          0.0              0.0  MSOA2  \n",
      "\n",
      "[304 rows x 6 columns]\n"
     ]
    }
   ],
   "source": [
    "# calculate event counts per day for each level of var, and put in one dataset\n",
    "counts_per_day_list = list()\n",
    "\n",
    "for strat in strata:\n",
    "    events_strat = (event_dates[df[var] == strat])\n",
    "    counts_strat = firsteventcountdata(consec_dates, events_strat)\n",
    "    counts_strat['msoa'] = strat\n",
    "    counts_per_day_list.append(counts_strat)\n",
    "\n",
    "counts_per_day = pd.concat(counts_per_day_list)\n",
    "print(counts_per_day)"
   ]
  },
  {
   "cell_type": "code",
   "execution_count": 8,
   "metadata": {},
   "outputs": [],
   "source": [
    "# save to file\n",
    "counts_per_day.to_csv(path_or_buf = \"../output/event_counts_by_\"+var+\".csv\")"
   ]
  }
 ],
 "metadata": {
  "jupytext": {
   "cell_metadata_filter": "all",
   "notebook_metadata_filter": "all,-language_info",
   "text_representation": {
    "extension": ".py",
    "format_name": "light",
    "format_version": "1.5",
    "jupytext_version": "1.3.3"
   }
  },
  "kernelspec": {
   "display_name": "Python 3",
   "language": "python",
   "name": "python3"
  },
  "language_info": {
   "codemirror_mode": {
    "name": "ipython",
    "version": 3
   },
   "file_extension": ".py",
   "mimetype": "text/x-python",
   "name": "python",
   "nbconvert_exporter": "python",
   "pygments_lexer": "ipython3",
   "version": "3.7.6"
  }
 },
 "nbformat": 4,
 "nbformat_minor": 4
}
